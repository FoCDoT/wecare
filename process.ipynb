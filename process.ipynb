{
 "cells": [
  {
   "cell_type": "code",
   "execution_count": 1,
   "metadata": {},
   "outputs": [
    {
     "data": {
      "text/html": [
       "<script type=\"text/javascript\">window.PlotlyConfig = {MathJaxConfig: 'local'};</script><script type=\"text/javascript\">if (window.MathJax) {MathJax.Hub.Config({SVG: {font: \"STIX-Web\"}});}</script><script>requirejs.config({paths: { 'plotly': ['https://cdn.plot.ly/plotly-latest.min']},});if(!window._Plotly) {require(['plotly'],function(plotly) {window._Plotly=plotly;});}</script>"
      ],
      "text/vnd.plotly.v1+html": [
       "<script type=\"text/javascript\">window.PlotlyConfig = {MathJaxConfig: 'local'};</script><script type=\"text/javascript\">if (window.MathJax) {MathJax.Hub.Config({SVG: {font: \"STIX-Web\"}});}</script><script>requirejs.config({paths: { 'plotly': ['https://cdn.plot.ly/plotly-latest.min']},});if(!window._Plotly) {require(['plotly'],function(plotly) {window._Plotly=plotly;});}</script>"
      ]
     },
     "metadata": {},
     "output_type": "display_data"
    }
   ],
   "source": [
    "from helpers import Map, load_map_10, load_map_40, show_map\n",
    "import math"
   ]
  },
  {
   "cell_type": "code",
   "execution_count": 2,
   "metadata": {},
   "outputs": [
    {
     "name": "stderr",
     "output_type": "stream",
     "text": [
      "/home/ekansh/anaconda3/envs/hack/lib/python3.7/site-packages/plotly/graph_objs/_deprecations.py:372: DeprecationWarning:\n",
      "\n",
      "plotly.graph_objs.Line is deprecated.\n",
      "Please replace it with one of the following more specific types\n",
      "  - plotly.graph_objs.scatter.Line\n",
      "  - plotly.graph_objs.layout.shape.Line\n",
      "  - etc.\n",
      "\n",
      "\n",
      "/home/ekansh/anaconda3/envs/hack/lib/python3.7/site-packages/plotly/graph_objs/_deprecations.py:426: DeprecationWarning:\n",
      "\n",
      "plotly.graph_objs.Marker is deprecated.\n",
      "Please replace it with one of the following more specific types\n",
      "  - plotly.graph_objs.scatter.Marker\n",
      "  - plotly.graph_objs.histogram.selected.Marker\n",
      "  - etc.\n",
      "\n",
      "\n",
      "/home/ekansh/anaconda3/envs/hack/lib/python3.7/site-packages/plotly/graph_objs/_deprecations.py:39: DeprecationWarning:\n",
      "\n",
      "plotly.graph_objs.Data is deprecated.\n",
      "Please replace it with a list or tuple of instances of the following types\n",
      "  - plotly.graph_objs.Scatter\n",
      "  - plotly.graph_objs.Bar\n",
      "  - plotly.graph_objs.Area\n",
      "  - plotly.graph_objs.Histogram\n",
      "  - etc.\n",
      "\n",
      "\n",
      "/home/ekansh/anaconda3/envs/hack/lib/python3.7/site-packages/plotly/graph_objs/_deprecations.py:531: DeprecationWarning:\n",
      "\n",
      "plotly.graph_objs.XAxis is deprecated.\n",
      "Please replace it with one of the following more specific types\n",
      "  - plotly.graph_objs.layout.XAxis\n",
      "  - plotly.graph_objs.layout.scene.XAxis\n",
      "\n",
      "\n",
      "/home/ekansh/anaconda3/envs/hack/lib/python3.7/site-packages/plotly/graph_objs/_deprecations.py:558: DeprecationWarning:\n",
      "\n",
      "plotly.graph_objs.YAxis is deprecated.\n",
      "Please replace it with one of the following more specific types\n",
      "  - plotly.graph_objs.layout.YAxis\n",
      "  - plotly.graph_objs.layout.scene.YAxis\n",
      "\n",
      "\n"
     ]
    },
    {
     "data": {
      "application/vnd.plotly.v1+json": {
       "config": {
        "linkText": "Export to plot.ly",
        "plotlyServerURL": "https://plot.ly",
        "showLink": false
       },
       "data": [
        {
         "hoverinfo": "none",
         "line": {
          "color": "#888",
          "width": 0.5
         },
         "mode": "lines",
         "type": "scatter",
         "uid": "1926f705-de2b-4747-9069-6f035b3111fe",
         "x": [],
         "y": []
        },
        {
         "hoverinfo": "text",
         "marker": {
          "color": [
           0
          ],
          "colorbar": {
           "thickness": 15,
           "title": {
            "side": "right",
            "text": "Node Connections"
           },
           "xanchor": "left"
          },
          "colorscale": "Hot",
          "line": {
           "width": 2
          },
          "reversescale": true,
          "showscale": false,
          "size": 10
         },
         "mode": "markers",
         "text": [
          "Intersection 0"
         ],
         "type": "scatter",
         "uid": "67b444ce-6f7b-4081-9604-2f1b1d8911a2",
         "x": [
          76
         ],
         "y": [
          390
         ]
        }
       ],
       "layout": {
        "hovermode": "closest",
        "margin": {
         "b": 20,
         "l": 5,
         "r": 5,
         "t": 40
        },
        "showlegend": false,
        "title": {
         "font": {
          "size": 16
         },
         "text": "<br>Ambulance path"
        },
        "xaxis": {
         "showgrid": false,
         "showticklabels": false,
         "zeroline": false
        },
        "yaxis": {
         "showgrid": false,
         "showticklabels": false,
         "zeroline": false
        }
       }
      },
      "text/html": [
       "<div id=\"e16315db-7e52-42f1-970e-828e9278cc44\" style=\"height: 525px; width: 100%;\" class=\"plotly-graph-div\"></div><script type=\"text/javascript\">require([\"plotly\"], function(Plotly) { window.PLOTLYENV=window.PLOTLYENV || {};window.PLOTLYENV.BASE_URL=\"https://plot.ly\";\n",
       "if (document.getElementById(\"e16315db-7e52-42f1-970e-828e9278cc44\")) {\n",
       "    Plotly.newPlot(\"e16315db-7e52-42f1-970e-828e9278cc44\", [{\"hoverinfo\": \"none\", \"line\": {\"color\": \"#888\", \"width\": 0.5}, \"mode\": \"lines\", \"x\": [], \"y\": [], \"type\": \"scatter\", \"uid\": \"1926f705-de2b-4747-9069-6f035b3111fe\"}, {\"hoverinfo\": \"text\", \"marker\": {\"color\": [0], \"colorbar\": {\"thickness\": 15, \"title\": {\"side\": \"right\", \"text\": \"Node Connections\"}, \"xanchor\": \"left\"}, \"colorscale\": \"Hot\", \"line\": {\"width\": 2}, \"reversescale\": true, \"showscale\": false, \"size\": 10}, \"mode\": \"markers\", \"text\": [\"Intersection 0\"], \"x\": [76], \"y\": [390], \"type\": \"scatter\", \"uid\": \"67b444ce-6f7b-4081-9604-2f1b1d8911a2\"}], {\"hovermode\": \"closest\", \"margin\": {\"b\": 20, \"l\": 5, \"r\": 5, \"t\": 40}, \"showlegend\": false, \"title\": {\"font\": {\"size\": 16}, \"text\": \"<br>Ambulance path\"}, \"xaxis\": {\"showgrid\": false, \"showticklabels\": false, \"zeroline\": false}, \"yaxis\": {\"showgrid\": false, \"showticklabels\": false, \"zeroline\": false}}, {\"showLink\": false, \"linkText\": \"Export to plot.ly\", \"plotlyServerURL\": \"https://plot.ly\"}); \n",
       "}\n",
       "});</script><script type=\"text/javascript\">window.addEventListener(\"resize\", function(){if (document.getElementById(\"e16315db-7e52-42f1-970e-828e9278cc44\")) {window._Plotly.Plots.resize(document.getElementById(\"e16315db-7e52-42f1-970e-828e9278cc44\"));};})</script>"
      ],
      "text/vnd.plotly.v1+html": [
       "<div id=\"e16315db-7e52-42f1-970e-828e9278cc44\" style=\"height: 525px; width: 100%;\" class=\"plotly-graph-div\"></div><script type=\"text/javascript\">require([\"plotly\"], function(Plotly) { window.PLOTLYENV=window.PLOTLYENV || {};window.PLOTLYENV.BASE_URL=\"https://plot.ly\";\n",
       "if (document.getElementById(\"e16315db-7e52-42f1-970e-828e9278cc44\")) {\n",
       "    Plotly.newPlot(\"e16315db-7e52-42f1-970e-828e9278cc44\", [{\"hoverinfo\": \"none\", \"line\": {\"color\": \"#888\", \"width\": 0.5}, \"mode\": \"lines\", \"x\": [], \"y\": [], \"type\": \"scatter\", \"uid\": \"1926f705-de2b-4747-9069-6f035b3111fe\"}, {\"hoverinfo\": \"text\", \"marker\": {\"color\": [0], \"colorbar\": {\"thickness\": 15, \"title\": {\"side\": \"right\", \"text\": \"Node Connections\"}, \"xanchor\": \"left\"}, \"colorscale\": \"Hot\", \"line\": {\"width\": 2}, \"reversescale\": true, \"showscale\": false, \"size\": 10}, \"mode\": \"markers\", \"text\": [\"Intersection 0\"], \"x\": [76], \"y\": [390], \"type\": \"scatter\", \"uid\": \"67b444ce-6f7b-4081-9604-2f1b1d8911a2\"}], {\"hovermode\": \"closest\", \"margin\": {\"b\": 20, \"l\": 5, \"r\": 5, \"t\": 40}, \"showlegend\": false, \"title\": {\"font\": {\"size\": 16}, \"text\": \"<br>Ambulance path\"}, \"xaxis\": {\"showgrid\": false, \"showticklabels\": false, \"zeroline\": false}, \"yaxis\": {\"showgrid\": false, \"showticklabels\": false, \"zeroline\": false}}, {\"showLink\": false, \"linkText\": \"Export to plot.ly\", \"plotlyServerURL\": \"https://plot.ly\"}); \n",
       "}\n",
       "});</script><script type=\"text/javascript\">window.addEventListener(\"resize\", function(){if (document.getElementById(\"e16315db-7e52-42f1-970e-828e9278cc44\")) {window._Plotly.Plots.resize(document.getElementById(\"e16315db-7e52-42f1-970e-828e9278cc44\"));};})</script>"
      ]
     },
     "metadata": {},
     "output_type": "display_data"
    }
   ],
   "source": [
    "map_40 = load_map_40()\n",
    "show_map(map_40)"
   ]
  },
  {
   "cell_type": "code",
   "execution_count": 9,
   "metadata": {},
   "outputs": [
    {
     "name": "stdout",
     "output_type": "stream",
     "text": [
      "0:{'pos':(76,390\n",
      "), 'connections': []}\n",
      "1:{'pos':(96,272\n",
      "), 'connections': []}\n",
      "2:{'pos':(185,285\n",
      "), 'connections': []}\n",
      "3:{'pos':(87,226\n",
      "), 'connections': []}\n",
      "4:{'pos':(199,251\n",
      "), 'connections': []}\n",
      "5:{'pos':(99,142\n",
      "), 'connections': []}\n",
      "6:{'pos':(207,159\n",
      "), 'connections': []}\n",
      "7:{'pos':(108,65\n",
      "), 'connections': []}\n",
      "8:{'pos':(244,77\n",
      "), 'connections': []}\n",
      "9:{'pos':(310,55\n",
      "), 'connections': []}\n",
      "10:{'pos':(330,162\n",
      "), 'connections': []}\n",
      "11:{'pos':(308,161\n",
      "), 'connections': []}\n",
      "12:{'pos':(408,42\n",
      "), 'connections': []}\n",
      "13:{'pos':(447,96\n",
      "), 'connections': []}\n",
      "14:{'pos':(484,124\n",
      "), 'connections': []}\n",
      "15:{'pos':(547,140\n",
      "), 'connections': []}\n",
      "16:{'pos':(632,161\n",
      "), 'connections': []}\n",
      "17:{'pos':(698,184\n",
      "), 'connections': []}\n",
      "18:{'pos':(723,124\n",
      "), 'connections': []}\n",
      "19:{'pos':(790,86\n",
      "), 'connections': []}\n",
      "20:{'pos':(828,64\n",
      "), 'connections': []}\n",
      "21:{'pos':(827,62\n",
      "), 'connections': []}\n",
      "22:{'pos':(743,23\n",
      "), 'connections': []}\n",
      "23:{'pos':(685,58\n",
      "), 'connections': []}\n",
      "24:{'pos':(579,42\n",
      "), 'connections': []}\n",
      "25:{'pos':(565,80\n",
      "), 'connections': []}\n",
      "26:{'pos':(648,95\n",
      "), 'connections': []}\n",
      "27:{'pos':(588,273\n",
      "), 'connections': []}\n",
      "28:{'pos':(518,259\n",
      "), 'connections': []}\n",
      "29:{'pos':(541,510\n",
      "), 'connections': []}\n",
      "30:{'pos':(589,409\n",
      "), 'connections': []}\n",
      "31:{'pos':(446,235\n",
      "), 'connections': []}\n",
      "32:{'pos':(361,254\n",
      "), 'connections': []}\n",
      "33:{'pos':(493,373\n",
      "), 'connections': []}\n",
      "34:{'pos':(445,439\n",
      "), 'connections': []}\n",
      "35:{'pos':(510,522\n",
      "), 'connections': []}\n",
      "36:{'pos':(57,61\n",
      "), 'connections': []}\n",
      "37:{'pos':(64,40\n",
      "), 'connections': []}\n",
      "38:{'pos':(219,420\n",
      "), 'connections': []}\n",
      "39:{'pos':(503,317\n",
      "), 'connections': []}\n",
      "40:{'pos':(349,389\n",
      "), 'connections': []}\n",
      "41:{'pos':(225,348\n",
      "), 'connections': []}\n"
     ]
    }
   ],
   "source": [
    "filepath = 'main.txt'  \n",
    "with open(filepath) as fp:  \n",
    "    line = fp.readline()\n",
    "    cnt = 0\n",
    "    while line:\n",
    "        x = line.split(\",\")\n",
    "        print(str(cnt) + \":{'pos':(\" + x[0] + \",\" + x[1] + \"), 'connections': []}\")\n",
    "        line = fp.readline()\n",
    "        cnt += 1"
   ]
  },
  {
   "cell_type": "code",
   "execution_count": null,
   "metadata": {},
   "outputs": [],
   "source": [
    "0: {'pos': (0.7798606835438107, 0.6922727646627362), 'connections': []}"
   ]
  }
 ],
 "metadata": {
  "kernelspec": {
   "display_name": "Python (hack)",
   "language": "python",
   "name": "hack"
  },
  "language_info": {
   "codemirror_mode": {
    "name": "ipython",
    "version": 3
   },
   "file_extension": ".py",
   "mimetype": "text/x-python",
   "name": "python",
   "nbconvert_exporter": "python",
   "pygments_lexer": "ipython3",
   "version": "3.7.1"
  }
 },
 "nbformat": 4,
 "nbformat_minor": 2
}
